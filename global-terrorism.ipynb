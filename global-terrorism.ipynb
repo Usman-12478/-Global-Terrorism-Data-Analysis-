{
 "cells": [
  {
   "cell_type": "code",
   "execution_count": 1,
   "id": "e1e1754a",
   "metadata": {
    "_cell_guid": "b1076dfc-b9ad-4769-8c92-a6c4dae69d19",
    "_uuid": "8f2839f25d086af736a60e9eeb907d3b93b6e0e5",
    "execution": {
     "iopub.execute_input": "2024-10-27T06:09:13.081441Z",
     "iopub.status.busy": "2024-10-27T06:09:13.081021Z",
     "iopub.status.idle": "2024-10-27T06:09:15.926174Z",
     "shell.execute_reply": "2024-10-27T06:09:15.925214Z"
    },
    "papermill": {
     "duration": 2.857953,
     "end_time": "2024-10-27T06:09:15.929026",
     "exception": false,
     "start_time": "2024-10-27T06:09:13.071073",
     "status": "completed"
    },
    "tags": []
   },
   "outputs": [],
   "source": [
    "import numpy as np\n",
    "import pandas as pd\n",
    "import matplotlib.pyplot as plt\n",
    "import seaborn as sns\n",
    "import time\n",
    "from IPython.display import clear_output\n",
    "%matplotlib inline\n",
    "import warnings\n",
    "warnings.filterwarnings('ignore')"
   ]
  },
  {
   "cell_type": "code",
   "execution_count": 2,
   "id": "cf55bd2d",
   "metadata": {
    "execution": {
     "iopub.execute_input": "2024-10-27T06:09:15.946765Z",
     "iopub.status.busy": "2024-10-27T06:09:15.946181Z",
     "iopub.status.idle": "2024-10-27T06:09:16.766925Z",
     "shell.execute_reply": "2024-10-27T06:09:16.765644Z"
    },
    "papermill": {
     "duration": 0.832875,
     "end_time": "2024-10-27T06:09:16.769855",
     "exception": false,
     "start_time": "2024-10-27T06:09:15.936980",
     "status": "completed"
    },
    "tags": []
   },
   "outputs": [],
   "source": [
    "ter_data = pd.read_csv('/kaggle/input/global-terrorism-dataset/CleanData.csv')"
   ]
  },
  {
   "cell_type": "code",
   "execution_count": 3,
   "id": "635360b5",
   "metadata": {
    "execution": {
     "iopub.execute_input": "2024-10-27T06:09:16.788236Z",
     "iopub.status.busy": "2024-10-27T06:09:16.787615Z",
     "iopub.status.idle": "2024-10-27T06:09:16.825436Z",
     "shell.execute_reply": "2024-10-27T06:09:16.824020Z"
    },
    "papermill": {
     "duration": 0.050809,
     "end_time": "2024-10-27T06:09:16.828442",
     "exception": false,
     "start_time": "2024-10-27T06:09:16.777633",
     "status": "completed"
    },
    "tags": []
   },
   "outputs": [
    {
     "data": {
      "text/html": [
       "<div>\n",
       "<style scoped>\n",
       "    .dataframe tbody tr th:only-of-type {\n",
       "        vertical-align: middle;\n",
       "    }\n",
       "\n",
       "    .dataframe tbody tr th {\n",
       "        vertical-align: top;\n",
       "    }\n",
       "\n",
       "    .dataframe thead th {\n",
       "        text-align: right;\n",
       "    }\n",
       "</style>\n",
       "<table border=\"1\" class=\"dataframe\">\n",
       "  <thead>\n",
       "    <tr style=\"text-align: right;\">\n",
       "      <th></th>\n",
       "      <th>Eventid</th>\n",
       "      <th>Year</th>\n",
       "      <th>Country</th>\n",
       "      <th>Region</th>\n",
       "      <th>Crit1</th>\n",
       "      <th>Crit2</th>\n",
       "      <th>Crit3</th>\n",
       "      <th>Success</th>\n",
       "      <th>Attacktype</th>\n",
       "      <th>Targtype</th>\n",
       "      <th>Natlty1</th>\n",
       "      <th>Gname</th>\n",
       "      <th>Weaptype</th>\n",
       "      <th>Nkill</th>\n",
       "      <th>Nwound</th>\n",
       "      <th>Damage</th>\n",
       "    </tr>\n",
       "  </thead>\n",
       "  <tbody>\n",
       "    <tr>\n",
       "      <th>0</th>\n",
       "      <td>197000000001</td>\n",
       "      <td>1970</td>\n",
       "      <td>Dominican Republic</td>\n",
       "      <td>Central America &amp; Caribbean</td>\n",
       "      <td>1</td>\n",
       "      <td>1</td>\n",
       "      <td>1</td>\n",
       "      <td>1</td>\n",
       "      <td>Assassination</td>\n",
       "      <td>Private Citizens &amp; Property</td>\n",
       "      <td>Dominican Republic</td>\n",
       "      <td>MANO-D</td>\n",
       "      <td>Unknown</td>\n",
       "      <td>1.0</td>\n",
       "      <td>0.0</td>\n",
       "      <td>1.0</td>\n",
       "    </tr>\n",
       "    <tr>\n",
       "      <th>1</th>\n",
       "      <td>197000000002</td>\n",
       "      <td>1970</td>\n",
       "      <td>Mexico</td>\n",
       "      <td>North America</td>\n",
       "      <td>1</td>\n",
       "      <td>1</td>\n",
       "      <td>1</td>\n",
       "      <td>1</td>\n",
       "      <td>Hostage Taking</td>\n",
       "      <td>Government (Diplomatic)</td>\n",
       "      <td>Belgium</td>\n",
       "      <td>23rd of September Communist League</td>\n",
       "      <td>Unknown</td>\n",
       "      <td>0.0</td>\n",
       "      <td>0.0</td>\n",
       "      <td>0.0</td>\n",
       "    </tr>\n",
       "    <tr>\n",
       "      <th>2</th>\n",
       "      <td>197001000001</td>\n",
       "      <td>1970</td>\n",
       "      <td>Philippines</td>\n",
       "      <td>Southeast Asia</td>\n",
       "      <td>1</td>\n",
       "      <td>1</td>\n",
       "      <td>1</td>\n",
       "      <td>1</td>\n",
       "      <td>Assassination</td>\n",
       "      <td>Journalists &amp; Media</td>\n",
       "      <td>United States</td>\n",
       "      <td>Unknown</td>\n",
       "      <td>Unknown</td>\n",
       "      <td>1.0</td>\n",
       "      <td>0.0</td>\n",
       "      <td>1.0</td>\n",
       "    </tr>\n",
       "    <tr>\n",
       "      <th>3</th>\n",
       "      <td>197001000002</td>\n",
       "      <td>1970</td>\n",
       "      <td>Greece</td>\n",
       "      <td>Western Europe</td>\n",
       "      <td>1</td>\n",
       "      <td>1</td>\n",
       "      <td>1</td>\n",
       "      <td>1</td>\n",
       "      <td>Bombing/Explosion</td>\n",
       "      <td>Government (Diplomatic)</td>\n",
       "      <td>United States</td>\n",
       "      <td>Unknown</td>\n",
       "      <td>Explosives</td>\n",
       "      <td>NaN</td>\n",
       "      <td>NaN</td>\n",
       "      <td>NaN</td>\n",
       "    </tr>\n",
       "    <tr>\n",
       "      <th>4</th>\n",
       "      <td>197001000003</td>\n",
       "      <td>1970</td>\n",
       "      <td>Japan</td>\n",
       "      <td>East Asia</td>\n",
       "      <td>1</td>\n",
       "      <td>1</td>\n",
       "      <td>1</td>\n",
       "      <td>1</td>\n",
       "      <td>Facility/Infrastructure Attack</td>\n",
       "      <td>Government (Diplomatic)</td>\n",
       "      <td>United States</td>\n",
       "      <td>Unknown</td>\n",
       "      <td>Incendiary</td>\n",
       "      <td>NaN</td>\n",
       "      <td>NaN</td>\n",
       "      <td>NaN</td>\n",
       "    </tr>\n",
       "  </tbody>\n",
       "</table>\n",
       "</div>"
      ],
      "text/plain": [
       "        Eventid  Year             Country                       Region  Crit1  \\\n",
       "0  197000000001  1970  Dominican Republic  Central America & Caribbean      1   \n",
       "1  197000000002  1970              Mexico                North America      1   \n",
       "2  197001000001  1970         Philippines               Southeast Asia      1   \n",
       "3  197001000002  1970              Greece               Western Europe      1   \n",
       "4  197001000003  1970               Japan                    East Asia      1   \n",
       "\n",
       "   Crit2  Crit3  Success                      Attacktype  \\\n",
       "0      1      1        1                   Assassination   \n",
       "1      1      1        1                  Hostage Taking   \n",
       "2      1      1        1                   Assassination   \n",
       "3      1      1        1               Bombing/Explosion   \n",
       "4      1      1        1  Facility/Infrastructure Attack   \n",
       "\n",
       "                      Targtype             Natlty1  \\\n",
       "0  Private Citizens & Property  Dominican Republic   \n",
       "1      Government (Diplomatic)             Belgium   \n",
       "2          Journalists & Media       United States   \n",
       "3      Government (Diplomatic)       United States   \n",
       "4      Government (Diplomatic)       United States   \n",
       "\n",
       "                                Gname    Weaptype  Nkill  Nwound  Damage  \n",
       "0                              MANO-D     Unknown    1.0     0.0     1.0  \n",
       "1  23rd of September Communist League     Unknown    0.0     0.0     0.0  \n",
       "2                             Unknown     Unknown    1.0     0.0     1.0  \n",
       "3                             Unknown  Explosives    NaN     NaN     NaN  \n",
       "4                             Unknown  Incendiary    NaN     NaN     NaN  "
      ]
     },
     "execution_count": 3,
     "metadata": {},
     "output_type": "execute_result"
    }
   ],
   "source": [
    "ter_data.head()"
   ]
  },
  {
   "cell_type": "code",
   "execution_count": 4,
   "id": "37f56a1e",
   "metadata": {
    "execution": {
     "iopub.execute_input": "2024-10-27T06:09:16.847810Z",
     "iopub.status.busy": "2024-10-27T06:09:16.847378Z",
     "iopub.status.idle": "2024-10-27T06:09:16.855613Z",
     "shell.execute_reply": "2024-10-27T06:09:16.854222Z"
    },
    "papermill": {
     "duration": 0.020663,
     "end_time": "2024-10-27T06:09:16.858296",
     "exception": false,
     "start_time": "2024-10-27T06:09:16.837633",
     "status": "completed"
    },
    "tags": []
   },
   "outputs": [
    {
     "name": "stdout",
     "output_type": "stream",
     "text": [
      "Total Number of People Killed: 411868.0\n"
     ]
    }
   ],
   "source": [
    "# Calculate total number of people killed\n",
    "total_killed = ter_data['Nkill'].sum(skipna = True)\n",
    "print(f'Total Number of People Killed: {total_killed}')"
   ]
  },
  {
   "cell_type": "code",
   "execution_count": 5,
   "id": "47d40b16",
   "metadata": {
    "execution": {
     "iopub.execute_input": "2024-10-27T06:09:16.877505Z",
     "iopub.status.busy": "2024-10-27T06:09:16.877112Z",
     "iopub.status.idle": "2024-10-27T06:09:16.884987Z",
     "shell.execute_reply": "2024-10-27T06:09:16.883651Z"
    },
    "papermill": {
     "duration": 0.021242,
     "end_time": "2024-10-27T06:09:16.887883",
     "exception": false,
     "start_time": "2024-10-27T06:09:16.866641",
     "status": "completed"
    },
    "tags": []
   },
   "outputs": [
    {
     "name": "stdout",
     "output_type": "stream",
     "text": [
      "Total number of people wounded: 523869.0\n"
     ]
    }
   ],
   "source": [
    "# Calculate total number of people wounded\n",
    "total_wounded = ter_data['Nwound'].sum(skipna=True)\n",
    "print(f\"Total number of people wounded: {total_wounded}\")"
   ]
  },
  {
   "cell_type": "code",
   "execution_count": 6,
   "id": "3278da12",
   "metadata": {
    "execution": {
     "iopub.execute_input": "2024-10-27T06:09:16.906452Z",
     "iopub.status.busy": "2024-10-27T06:09:16.906091Z",
     "iopub.status.idle": "2024-10-27T06:09:16.914968Z",
     "shell.execute_reply": "2024-10-27T06:09:16.913012Z"
    },
    "papermill": {
     "duration": 0.021447,
     "end_time": "2024-10-27T06:09:16.917903",
     "exception": false,
     "start_time": "2024-10-27T06:09:16.896456",
     "status": "completed"
    },
    "tags": []
   },
   "outputs": [
    {
     "name": "stdout",
     "output_type": "stream",
     "text": [
      "Total damage reported: 872892.0\n"
     ]
    }
   ],
   "source": [
    "# Calculate total damage reported\n",
    "total_damage = ter_data['Damage'].sum(skipna=True)\n",
    "print(f\"Total damage reported: {total_damage}\")"
   ]
  },
  {
   "cell_type": "code",
   "execution_count": 7,
   "id": "46814c46",
   "metadata": {
    "execution": {
     "iopub.execute_input": "2024-10-27T06:09:16.937178Z",
     "iopub.status.busy": "2024-10-27T06:09:16.936792Z",
     "iopub.status.idle": "2024-10-27T06:09:16.945028Z",
     "shell.execute_reply": "2024-10-27T06:09:16.943414Z"
    },
    "papermill": {
     "duration": 0.022246,
     "end_time": "2024-10-27T06:09:16.949241",
     "exception": false,
     "start_time": "2024-10-27T06:09:16.926995",
     "status": "completed"
    },
    "tags": []
   },
   "outputs": [
    {
     "name": "stdout",
     "output_type": "stream",
     "text": [
      "Number of successful attacks: 161632\n"
     ]
    }
   ],
   "source": [
    "# Calculate number of successful attacks\n",
    "successful_attacks = ter_data['Success'].sum()\n",
    "print(f\"Number of successful attacks: {successful_attacks}\")"
   ]
  },
  {
   "cell_type": "code",
   "execution_count": 8,
   "id": "cea21789",
   "metadata": {
    "execution": {
     "iopub.execute_input": "2024-10-27T06:09:16.969610Z",
     "iopub.status.busy": "2024-10-27T06:09:16.969261Z",
     "iopub.status.idle": "2024-10-27T06:09:16.997334Z",
     "shell.execute_reply": "2024-10-27T06:09:16.995932Z"
    },
    "papermill": {
     "duration": 0.04147,
     "end_time": "2024-10-27T06:09:17.000393",
     "exception": false,
     "start_time": "2024-10-27T06:09:16.958923",
     "status": "completed"
    },
    "tags": []
   },
   "outputs": [
    {
     "name": "stdout",
     "output_type": "stream",
     "text": [
      "Unique types of attacks: 8\n",
      "List of unique attack types: ['Assassination', 'Hostage Taking', 'Bombing/Explosion', 'Facility/Infrastructure Attack', 'Armed Assault', 'Hijacking', 'Unknown', 'Unarmed Assault']\n"
     ]
    }
   ],
   "source": [
    "# List unique attack types\n",
    "unique_attack_types = ter_data['Attacktype'].unique()\n",
    "print(f\"Unique types of attacks: {len(unique_attack_types)}\")\n",
    "print(f\"List of unique attack types: {unique_attack_types.tolist()}\")"
   ]
  },
  {
   "cell_type": "code",
   "execution_count": 9,
   "id": "f694c8a5",
   "metadata": {
    "execution": {
     "iopub.execute_input": "2024-10-27T06:09:17.020410Z",
     "iopub.status.busy": "2024-10-27T06:09:17.020006Z",
     "iopub.status.idle": "2024-10-27T06:09:17.039267Z",
     "shell.execute_reply": "2024-10-27T06:09:17.037816Z"
    },
    "papermill": {
     "duration": 0.032339,
     "end_time": "2024-10-27T06:09:17.041910",
     "exception": false,
     "start_time": "2024-10-27T06:09:17.009571",
     "status": "completed"
    },
    "tags": []
   },
   "outputs": [
    {
     "name": "stdout",
     "output_type": "stream",
     "text": [
      "\n",
      "Number of attacks by year:\n",
      "Year\n",
      "2014    16903\n",
      "2015    14965\n",
      "2016    13587\n",
      "2013    12036\n",
      "2017    10900\n",
      "2012     8522\n",
      "2011     5076\n",
      "1992     5071\n",
      "2010     4826\n",
      "2008     4805\n",
      "2009     4721\n",
      "1991     4683\n",
      "1989     4324\n",
      "1990     3887\n",
      "1988     3721\n",
      "1984     3495\n",
      "1994     3456\n",
      "2007     3242\n",
      "1997     3197\n",
      "1987     3183\n",
      "1995     3081\n",
      "1996     3058\n",
      "1985     2915\n",
      "1983     2870\n",
      "1986     2860\n",
      "2006     2758\n",
      "1979     2662\n",
      "1980     2662\n",
      "1981     2586\n",
      "1982     2544\n",
      "2005     2017\n",
      "2001     1906\n",
      "2000     1814\n",
      "1978     1526\n",
      "1999     1395\n",
      "2002     1333\n",
      "1977     1319\n",
      "2003     1278\n",
      "2004     1166\n",
      "1998      934\n",
      "1976      923\n",
      "1975      740\n",
      "1970      651\n",
      "1974      581\n",
      "1972      568\n",
      "1973      473\n",
      "1971      471\n",
      "Name: count, dtype: int64\n"
     ]
    }
   ],
   "source": [
    "# Number of attacks by year\n",
    "attacks_by_year =ter_data['Year'].value_counts()\n",
    "print(\"\\nNumber of attacks by year:\")\n",
    "print(attacks_by_year)"
   ]
  },
  {
   "cell_type": "code",
   "execution_count": 10,
   "id": "11ec83f6",
   "metadata": {
    "execution": {
     "iopub.execute_input": "2024-10-27T06:09:17.061773Z",
     "iopub.status.busy": "2024-10-27T06:09:17.061391Z",
     "iopub.status.idle": "2024-10-27T06:09:17.104029Z",
     "shell.execute_reply": "2024-10-27T06:09:17.102690Z"
    },
    "papermill": {
     "duration": 0.056241,
     "end_time": "2024-10-27T06:09:17.107051",
     "exception": false,
     "start_time": "2024-10-27T06:09:17.050810",
     "status": "completed"
    },
    "tags": []
   },
   "outputs": [
    {
     "name": "stdout",
     "output_type": "stream",
     "text": [
      "\n",
      "Total kills and wounds by attack type:\n",
      "                                   Nkill    Nwound\n",
      "Attacktype                                        \n",
      "Armed Assault                   160297.0   77366.0\n",
      "Assassination                    24920.0   13887.0\n",
      "Bombing/Explosion               157321.0  372686.0\n",
      "Facility/Infrastructure Attack    3642.0    3765.0\n",
      "Hijacking                         3718.0   17001.0\n",
      "Hostage Taking                   28709.0   10412.0\n",
      "Unarmed Assault                    880.0   14027.0\n",
      "Unknown                          32381.0   14725.0\n"
     ]
    }
   ],
   "source": [
    "#  Total kills and wounds by attack type\n",
    "kills_wounds_by_attack = ter_data.groupby('Attacktype')[['Nkill', 'Nwound']].sum().fillna(0)\n",
    "print(\"\\nTotal kills and wounds by attack type:\")\n",
    "print(kills_wounds_by_attack)\n"
   ]
  },
  {
   "cell_type": "code",
   "execution_count": 11,
   "id": "b9851199",
   "metadata": {
    "execution": {
     "iopub.execute_input": "2024-10-27T06:09:17.127537Z",
     "iopub.status.busy": "2024-10-27T06:09:17.127151Z",
     "iopub.status.idle": "2024-10-27T06:09:17.167588Z",
     "shell.execute_reply": "2024-10-27T06:09:17.166215Z"
    },
    "papermill": {
     "duration": 0.054147,
     "end_time": "2024-10-27T06:09:17.170522",
     "exception": false,
     "start_time": "2024-10-27T06:09:17.116375",
     "status": "completed"
    },
    "tags": []
   },
   "outputs": [
    {
     "name": "stdout",
     "output_type": "stream",
     "text": [
      "\n",
      "Most common attack type: Bombing/Explosion\n"
     ]
    }
   ],
   "source": [
    "#  Most common attack type\n",
    "most_common_attack_type = ter_data['Attacktype'].mode()[0]\n",
    "print(f\"\\nMost common attack type: {most_common_attack_type}\")"
   ]
  },
  {
   "cell_type": "code",
   "execution_count": 12,
   "id": "b9a6c640",
   "metadata": {
    "execution": {
     "iopub.execute_input": "2024-10-27T06:09:17.190771Z",
     "iopub.status.busy": "2024-10-27T06:09:17.190376Z",
     "iopub.status.idle": "2024-10-27T06:09:17.232978Z",
     "shell.execute_reply": "2024-10-27T06:09:17.231431Z"
    },
    "papermill": {
     "duration": 0.055795,
     "end_time": "2024-10-27T06:09:17.235834",
     "exception": false,
     "start_time": "2024-10-27T06:09:17.180039",
     "status": "completed"
    },
    "tags": []
   },
   "outputs": [
    {
     "name": "stdout",
     "output_type": "stream",
     "text": [
      "\n",
      "Countries with the highest number of attacks:\n",
      "Country\n",
      "Iraq                   24636\n",
      "Pakistan               14368\n",
      "Afghanistan            12731\n",
      "India                  11960\n",
      "Colombia                8306\n",
      "                       ...  \n",
      "Andorra                    1\n",
      "North Korea                1\n",
      "Falkland Islands           1\n",
      "Wallis and Futuna          1\n",
      "Antigua and Barbuda        1\n",
      "Name: count, Length: 204, dtype: int64\n"
     ]
    }
   ],
   "source": [
    "# Countries with the highest number of attacks\n",
    "attacks_by_country = ter_data['Country'].value_counts()\n",
    "print(\"\\nCountries with the highest number of attacks:\")\n",
    "print(attacks_by_country)"
   ]
  },
  {
   "cell_type": "code",
   "execution_count": 13,
   "id": "8818c864",
   "metadata": {
    "execution": {
     "iopub.execute_input": "2024-10-27T06:09:17.256490Z",
     "iopub.status.busy": "2024-10-27T06:09:17.255795Z",
     "iopub.status.idle": "2024-10-27T06:09:17.288228Z",
     "shell.execute_reply": "2024-10-27T06:09:17.286576Z"
    },
    "papermill": {
     "duration": 0.045893,
     "end_time": "2024-10-27T06:09:17.290857",
     "exception": false,
     "start_time": "2024-10-27T06:09:17.244964",
     "status": "completed"
    },
    "tags": []
   },
   "outputs": [
    {
     "name": "stdout",
     "output_type": "stream",
     "text": [
      "\n",
      "Average damage per attack type:\n",
      "Attacktype\n",
      "Armed Assault                      5.552720\n",
      "Assassination                      2.070963\n",
      "Bombing/Explosion                  6.232296\n",
      "Facility/Infrastructure Attack     0.652665\n",
      "Hijacking                         35.045840\n",
      "Hostage Taking                     3.138169\n",
      "Unarmed Assault                   16.147380\n",
      "Unknown                            6.486407\n",
      "Name: Damage, dtype: float64\n"
     ]
    }
   ],
   "source": [
    "# Average damage per attack type\n",
    "average_damage_by_attack = ter_data.groupby('Attacktype')['Damage'].mean().fillna(0)\n",
    "print(\"\\nAverage damage per attack type:\")\n",
    "print(average_damage_by_attack)"
   ]
  },
  {
   "cell_type": "code",
   "execution_count": 14,
   "id": "7c8ee057",
   "metadata": {
    "execution": {
     "iopub.execute_input": "2024-10-27T06:09:17.312307Z",
     "iopub.status.busy": "2024-10-27T06:09:17.311838Z",
     "iopub.status.idle": "2024-10-27T06:09:17.352850Z",
     "shell.execute_reply": "2024-10-27T06:09:17.351581Z"
    },
    "papermill": {
     "duration": 0.055287,
     "end_time": "2024-10-27T06:09:17.355365",
     "exception": false,
     "start_time": "2024-10-27T06:09:17.300078",
     "status": "completed"
    },
    "tags": []
   },
   "outputs": [
    {
     "name": "stdout",
     "output_type": "stream",
     "text": [
      "Country with the highest number of terrorist attacks: Iraq with 24636 attacks.\n"
     ]
    }
   ],
   "source": [
    "# Count the number of attacks per country\n",
    "attacks_by_country = ter_data['Country'].value_counts()\n",
    "\n",
    "# Get the country with the highest number of attacks\n",
    "country_with_highest_attacks = attacks_by_country.idxmax()\n",
    "highest_attack_count = attacks_by_country.max()\n",
    "\n",
    "print(f'Country with the highest number of terrorist attacks: {country_with_highest_attacks} with {highest_attack_count} attacks.')"
   ]
  },
  {
   "cell_type": "code",
   "execution_count": 15,
   "id": "8dd17b0f",
   "metadata": {
    "execution": {
     "iopub.execute_input": "2024-10-27T06:09:17.376030Z",
     "iopub.status.busy": "2024-10-27T06:09:17.375624Z",
     "iopub.status.idle": "2024-10-27T06:09:17.418860Z",
     "shell.execute_reply": "2024-10-27T06:09:17.417661Z"
    },
    "papermill": {
     "duration": 0.056412,
     "end_time": "2024-10-27T06:09:17.421422",
     "exception": false,
     "start_time": "2024-10-27T06:09:17.365010",
     "status": "completed"
    },
    "tags": []
   },
   "outputs": [
    {
     "data": {
      "text/plain": [
       "Country\n",
       "Iraq                   24636\n",
       "Pakistan               14368\n",
       "Afghanistan            12731\n",
       "India                  11960\n",
       "Colombia                8306\n",
       "                       ...  \n",
       "Andorra                    1\n",
       "North Korea                1\n",
       "Falkland Islands           1\n",
       "Wallis and Futuna          1\n",
       "Antigua and Barbuda        1\n",
       "Name: count, Length: 204, dtype: int64"
      ]
     },
     "execution_count": 15,
     "metadata": {},
     "output_type": "execute_result"
    }
   ],
   "source": [
    "ter_data['Country'].value_counts()"
   ]
  },
  {
   "cell_type": "code",
   "execution_count": 16,
   "id": "4050cb9b",
   "metadata": {
    "execution": {
     "iopub.execute_input": "2024-10-27T06:09:17.442783Z",
     "iopub.status.busy": "2024-10-27T06:09:17.442345Z",
     "iopub.status.idle": "2024-10-27T06:09:17.482545Z",
     "shell.execute_reply": "2024-10-27T06:09:17.481361Z"
    },
    "papermill": {
     "duration": 0.054358,
     "end_time": "2024-10-27T06:09:17.485679",
     "exception": false,
     "start_time": "2024-10-27T06:09:17.431321",
     "status": "completed"
    },
    "tags": []
   },
   "outputs": [
    {
     "name": "stdout",
     "output_type": "stream",
     "text": [
      "Regions with their highest number of Terrorist Attacks: Middle East & North Africa\n"
     ]
    }
   ],
   "source": [
    "print('Regions with their highest number of Terrorist Attacks:', ter_data['Region'].mode()[0])"
   ]
  },
  {
   "cell_type": "code",
   "execution_count": 17,
   "id": "c205c4f2",
   "metadata": {
    "execution": {
     "iopub.execute_input": "2024-10-27T06:09:17.507848Z",
     "iopub.status.busy": "2024-10-27T06:09:17.507399Z",
     "iopub.status.idle": "2024-10-27T06:09:17.515756Z",
     "shell.execute_reply": "2024-10-27T06:09:17.514194Z"
    },
    "papermill": {
     "duration": 0.02285,
     "end_time": "2024-10-27T06:09:17.518796",
     "exception": false,
     "start_time": "2024-10-27T06:09:17.495946",
     "status": "completed"
    },
    "tags": []
   },
   "outputs": [
    {
     "name": "stdout",
     "output_type": "stream",
     "text": [
      "Max number of People were killed by a single terrorist attack are 1570.0\n"
     ]
    }
   ],
   "source": [
    "print('Max number of People were killed by a single terrorist attack are', ter_data['Nkill'].max())"
   ]
  },
  {
   "cell_type": "code",
   "execution_count": 18,
   "id": "e85cd2ab",
   "metadata": {
    "execution": {
     "iopub.execute_input": "2024-10-27T06:09:17.539874Z",
     "iopub.status.busy": "2024-10-27T06:09:17.539467Z",
     "iopub.status.idle": "2024-10-27T06:09:17.546056Z",
     "shell.execute_reply": "2024-10-27T06:09:17.544794Z"
    },
    "papermill": {
     "duration": 0.020189,
     "end_time": "2024-10-27T06:09:17.548636",
     "exception": false,
     "start_time": "2024-10-27T06:09:17.528447",
     "status": "completed"
    },
    "tags": []
   },
   "outputs": [],
   "source": [
    "ter_data['Damage'] = ter_data['Nkill'] + ter_data['Nwound']"
   ]
  },
  {
   "cell_type": "code",
   "execution_count": 19,
   "id": "01041f7b",
   "metadata": {
    "execution": {
     "iopub.execute_input": "2024-10-27T06:09:17.570761Z",
     "iopub.status.busy": "2024-10-27T06:09:17.570337Z",
     "iopub.status.idle": "2024-10-27T06:09:17.577993Z",
     "shell.execute_reply": "2024-10-27T06:09:17.576778Z"
    },
    "papermill": {
     "duration": 0.021382,
     "end_time": "2024-10-27T06:09:17.580285",
     "exception": false,
     "start_time": "2024-10-27T06:09:17.558903",
     "status": "completed"
    },
    "tags": []
   },
   "outputs": [
    {
     "data": {
      "text/plain": [
       "181691"
      ]
     },
     "execution_count": 19,
     "metadata": {},
     "output_type": "execute_result"
    }
   ],
   "source": [
    "len(ter_data['Damage'])"
   ]
  },
  {
   "cell_type": "code",
   "execution_count": 20,
   "id": "aec3daa5",
   "metadata": {
    "execution": {
     "iopub.execute_input": "2024-10-27T06:09:17.601524Z",
     "iopub.status.busy": "2024-10-27T06:09:17.601144Z",
     "iopub.status.idle": "2024-10-27T06:09:17.771459Z",
     "shell.execute_reply": "2024-10-27T06:09:17.770345Z"
    },
    "papermill": {
     "duration": 0.184223,
     "end_time": "2024-10-27T06:09:17.774261",
     "exception": false,
     "start_time": "2024-10-27T06:09:17.590038",
     "status": "completed"
    },
    "tags": []
   },
   "outputs": [],
   "source": [
    "ter_data['Country'] = ter_data['Country'].replace('South Vietnam', 'vietname',regex=True)"
   ]
  },
  {
   "cell_type": "code",
   "execution_count": 21,
   "id": "50aa403f",
   "metadata": {
    "execution": {
     "iopub.execute_input": "2024-10-27T06:09:17.795351Z",
     "iopub.status.busy": "2024-10-27T06:09:17.794989Z",
     "iopub.status.idle": "2024-10-27T06:09:17.802293Z",
     "shell.execute_reply": "2024-10-27T06:09:17.801305Z"
    },
    "papermill": {
     "duration": 0.020884,
     "end_time": "2024-10-27T06:09:17.804876",
     "exception": false,
     "start_time": "2024-10-27T06:09:17.783992",
     "status": "completed"
    },
    "tags": []
   },
   "outputs": [
    {
     "data": {
      "text/plain": [
       "181691"
      ]
     },
     "execution_count": 21,
     "metadata": {},
     "output_type": "execute_result"
    }
   ],
   "source": [
    "len(ter_data['Country'])"
   ]
  },
  {
   "cell_type": "code",
   "execution_count": null,
   "id": "3a69fd1e",
   "metadata": {
    "papermill": {
     "duration": 0.009705,
     "end_time": "2024-10-27T06:09:17.824925",
     "exception": false,
     "start_time": "2024-10-27T06:09:17.815220",
     "status": "completed"
    },
    "tags": []
   },
   "outputs": [],
   "source": []
  }
 ],
 "metadata": {
  "kaggle": {
   "accelerator": "none",
   "dataSources": [
    {
     "datasetId": 5433007,
     "sourceId": 9016486,
     "sourceType": "datasetVersion"
    }
   ],
   "dockerImageVersionId": 30746,
   "isGpuEnabled": false,
   "isInternetEnabled": false,
   "language": "python",
   "sourceType": "notebook"
  },
  "kernelspec": {
   "display_name": "Python 3",
   "language": "python",
   "name": "python3"
  },
  "language_info": {
   "codemirror_mode": {
    "name": "ipython",
    "version": 3
   },
   "file_extension": ".py",
   "mimetype": "text/x-python",
   "name": "python",
   "nbconvert_exporter": "python",
   "pygments_lexer": "ipython3",
   "version": "3.10.13"
  },
  "papermill": {
   "default_parameters": {},
   "duration": 9.258155,
   "end_time": "2024-10-27T06:09:18.457378",
   "environment_variables": {},
   "exception": null,
   "input_path": "__notebook__.ipynb",
   "output_path": "__notebook__.ipynb",
   "parameters": {},
   "start_time": "2024-10-27T06:09:09.199223",
   "version": "2.5.0"
  }
 },
 "nbformat": 4,
 "nbformat_minor": 5
}
